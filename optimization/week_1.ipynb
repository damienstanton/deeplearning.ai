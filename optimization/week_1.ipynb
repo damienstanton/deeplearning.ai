{
 "cells": [
  {
   "cell_type": "markdown",
   "metadata": {},
   "source": [
    "### Weight initialization for a single neuron\n",
    "\n",
    "Note that this is pseudocode, and the weights and values for `n` are not indexable"
   ]
  },
  {
   "cell_type": "markdown",
   "metadata": {},
   "source": [
    "given some matrix X\n",
    "\n",
    "```py\n",
    "W[l] = np.random.randn(X.shape) * np.sqrt(1/n[l-1])\n",
    "```\n",
    "\n",
    "or if using relu activation\n",
    "\n",
    "```py\n",
    "W[l] = np.random.randn(X.shape) * np.sqrt(2/n[l-1])\n",
    "```\n",
    "\n",
    "or if using tanh activation, sometimes this is used (called Xavier initialization)\n",
    "```py\n",
    "W[l] = np.random.randn(X.shape) * np.sqrt(2/n[l-1]+n[l])\n",
    "```"
   ]
  },
  {
   "cell_type": "markdown",
   "metadata": {},
   "source": [
    "- Sampling a random gaussian and multiplying it by the `sqrt` of the `n[l-1]` term gives the correct variance (interesting for PPL, see Pyro?)\n",
    "- In practice, the above are just starting points, and the variance is tunable as a part of more general hyperparameter search"
   ]
  },
  {
   "cell_type": "markdown",
   "metadata": {},
   "source": [
    "These weight initialization techniques help prevent vanishing/exploding gradients and also help reduce required training time (especially wrt dropout)"
   ]
  },
  {
   "cell_type": "markdown",
   "metadata": {},
   "source": [
    "## Gradient checking"
   ]
  },
  {
   "cell_type": "markdown",
   "metadata": {},
   "source": [
    "# $\\frac{f(\\theta+\\epsilon)-f(\\theta-\\epsilon)}{2\\epsilon}=g(\\theta)$"
   ]
  },
  {
   "cell_type": "markdown",
   "metadata": {},
   "source": [
    "This follows from $\\lim_{\\epsilon\\rightarrow0}$, and allows us to verify any given $g(\\theta)$"
   ]
  },
  {
   "cell_type": "markdown",
   "metadata": {},
   "source": [
    "In pseudocode\n",
    "```py\n",
    "for i in range(gradients):\n",
    "    d_approx(theta)[i] = J(theta)/2*epsilon\n",
    "# ...\n",
    "assert(euclidean_dist(d_approx(theta)-d(theta) ~= 10**-7)\n",
    "```"
   ]
  },
  {
   "cell_type": "markdown",
   "metadata": {},
   "source": [
    "- Don't use gradient checking in training, only during debugging\n",
    "- Doesn't work with dropout"
   ]
  }
 ],
 "metadata": {
  "kernelspec": {
   "display_name": "Python 3",
   "language": "python",
   "name": "python3"
  },
  "language_info": {
   "codemirror_mode": {
    "name": "ipython",
    "version": 3
   },
   "file_extension": ".py",
   "mimetype": "text/x-python",
   "name": "python",
   "nbconvert_exporter": "python",
   "pygments_lexer": "ipython3",
   "version": "3.6.6"
  }
 },
 "nbformat": 4,
 "nbformat_minor": 2
}
