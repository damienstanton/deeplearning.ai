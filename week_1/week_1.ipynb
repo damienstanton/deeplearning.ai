{
 "cells": [
  {
   "cell_type": "markdown",
   "metadata": {},
   "source": [
    "### nothing to see here... 🤔\n",
    "\n",
    "this is just a smoke test to make sure I installed things correctly, and that my dumb\n",
    "patch to tensorflow fixed the dumb fact that they use `async` as as a param name."
   ]
  },
  {
   "cell_type": "code",
   "execution_count": 3,
   "metadata": {},
   "outputs": [
    {
     "name": "stdout",
     "output_type": "stream",
     "text": [
      "you broke it man: No module named 'scipy'\n"
     ]
    }
   ],
   "source": [
    "try:\n",
    "    import tensorflow\n",
    "    import numpy\n",
    "    import pandas\n",
    "    import sklearn\n",
    "    import requests\n",
    "    import flask\n",
    "except ImportError as e:\n",
    "    print(\"you broke it man: {}\".format(e))"
   ]
  },
  {
   "cell_type": "code",
   "execution_count": null,
   "metadata": {},
   "outputs": [],
   "source": []
  }
 ],
 "metadata": {
  "kernelspec": {
   "display_name": "Python 3",
   "language": "python",
   "name": "python3"
  },
  "language_info": {
   "codemirror_mode": {
    "name": "ipython",
    "version": 3
   },
   "file_extension": ".py",
   "mimetype": "text/x-python",
   "name": "python",
   "nbconvert_exporter": "python",
   "pygments_lexer": "ipython3",
   "version": "3.7.0"
  }
 },
 "nbformat": 4,
 "nbformat_minor": 2
}
