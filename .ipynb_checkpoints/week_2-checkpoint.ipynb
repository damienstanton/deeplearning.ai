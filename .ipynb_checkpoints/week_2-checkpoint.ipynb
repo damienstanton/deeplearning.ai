{
 "cells": [
  {
   "cell_type": "markdown",
   "metadata": {},
   "source": [
    "### Logistic regression\n",
    "\n",
    "- Note the differences between the squared loss func one would use in _linear regression_, and why this gets trapped in local minima in the case of binary classification (which is the use case here)"
   ]
  },
  {
   "cell_type": "markdown",
   "metadata": {},
   "source": [
    "$$\\hat{y} = P(y=1|x)$$\n",
    "where $$0\\le\\hat{y}\\le1$$ and $$x\\in\\mathbb{R}^{n_x}$$\n",
    "\n",
    "$$parameters:w\\in\\mathbb{R}^{n_x}, b\\in\\mathbb{R}$$\n",
    "$$output:\\hat{y}=\\sigma(w^{T}+b)$$"
   ]
  },
  {
   "cell_type": "markdown",
   "metadata": {},
   "source": [
    "the sigmoid func above expands to\n",
    "$$\\sigma(z)=\\frac{1}{1+e^{-z}}$$"
   ]
  }
 ],
 "metadata": {
  "kernelspec": {
   "display_name": "Python 3",
   "language": "python",
   "name": "python3"
  },
  "language_info": {
   "codemirror_mode": {
    "name": "ipython",
    "version": 3
   },
   "file_extension": ".py",
   "mimetype": "text/x-python",
   "name": "python",
   "nbconvert_exporter": "python",
   "pygments_lexer": "ipython3",
   "version": "3.7.0"
  }
 },
 "nbformat": 4,
 "nbformat_minor": 2
}
