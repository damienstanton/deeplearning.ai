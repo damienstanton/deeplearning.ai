{
 "cells": [
  {
   "cell_type": "markdown",
   "metadata": {},
   "source": [
    "this dumb hack fixes a nomenclature issue that prevents tensorflow from running correctly on Python 3.7"
   ]
  },
  {
   "cell_type": "code",
   "execution_count": null,
   "metadata": {},
   "outputs": [],
   "source": [
    "path = \"env/lib/python3.7/site-packages/tensorflow/python/pywrap_tensorflow_internal.py\"\n",
    "with open(path, \"r\") as f:\n",
    "    content = f.read()\n",
    "\n",
    "content = content.replace(\"async\", \"async_local\")\n",
    "\n",
    "with open(path, \"w\") as f:\n",
    "    f.write(content)"
   ]
  }
 ],
 "metadata": {
  "kernelspec": {
   "display_name": "Python 3",
   "language": "python",
   "name": "python3"
  },
  "language_info": {
   "codemirror_mode": {
    "name": "ipython",
    "version": 3
   },
   "file_extension": ".py",
   "mimetype": "text/x-python",
   "name": "python",
   "nbconvert_exporter": "python",
   "pygments_lexer": "ipython3",
   "version": "3.7.0"
  }
 },
 "nbformat": 4,
 "nbformat_minor": 2
}
