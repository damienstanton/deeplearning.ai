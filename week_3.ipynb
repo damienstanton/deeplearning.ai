{
 "cells": [
  {
   "cell_type": "markdown",
   "metadata": {},
   "source": [
    "## Activation functions"
   ]
  },
  {
   "cell_type": "markdown",
   "metadata": {},
   "source": [
    "### **sigmoid:** $\\sigma(z) = \\frac{1}{1+e^{-z}}$\n",
    "\n",
    "- Good for binary classification's output layer, but almost nothing else\n",
    "\n",
    "### **tanh:** $\\tanh(z) = \\frac{e^{z}-e^{-z}}{e^{z}+e^{-z}}$\n",
    "\n",
    "- Categorically shifted $\\sigma$, good for centering data. Strictly superior to $\\sigma$ in nearly all cases\n",
    "\n",
    "If z is very large/small, then the derivative shrinks in both $\\sigma$ and $\\tanh$. This is the [_vanishing gradient problem_](https://en.wikipedia.org/wiki/Vanishing_gradient_problem).\n",
    "\n",
    "### **reLU:** $relu(z) = \\max(0, z)$\n",
    "\n",
    "- Generally default func of choice\n",
    "\n",
    "### **leaky reLU:** $relu(z) = \\max(0.01, z)$\n",
    "\n",
    "- Very similar results to `relu` so the choice to use a particular gradient other than zero is model-dependent"
   ]
  },
  {
   "cell_type": "markdown",
   "metadata": {},
   "source": [
    "## Derivatives of activation functions"
   ]
  },
  {
   "cell_type": "markdown",
   "metadata": {},
   "source": [
    "$\\sigma = a(1-a)$\n",
    "\n",
    "$\\tanh = 1-a^{2}$\n",
    "\n",
    "$relu = \\begin{cases}\n",
    "  g, & \\text{if } z < g, \\\\\n",
    "  1, & \\text{if } z > g, \\\\\n",
    "  undefined, &\\text{if } z ==g\n",
    "\\end{cases}$\n",
    "\n",
    "where `g` is zero for relu, 0.01 or otherwise for leaky relu. Although non-rigorous, the zeroth case can be ignored in practice."
   ]
  },
  {
   "cell_type": "markdown",
   "metadata": {},
   "source": [
    "## Random initialization\n",
    "- initializing with zeros, as in `logreg`, will not work"
   ]
  }
 ],
 "metadata": {
  "kernelspec": {
   "display_name": "Python 3",
   "language": "python",
   "name": "python3"
  },
  "language_info": {
   "codemirror_mode": {
    "name": "ipython",
    "version": 3
   },
   "file_extension": ".py",
   "mimetype": "text/x-python",
   "name": "python",
   "nbconvert_exporter": "python",
   "pygments_lexer": "ipython3",
   "version": "3.7.0"
  }
 },
 "nbformat": 4,
 "nbformat_minor": 2
}
